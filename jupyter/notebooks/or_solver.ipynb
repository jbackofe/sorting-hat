{
 "cells": [
  {
   "cell_type": "markdown",
   "id": "6db180e8-a82a-4815-b64b-3978af3bc2b0",
   "metadata": {},
   "source": [
    "## MIPs Adjustable Weight"
   ]
  },
  {
   "cell_type": "code",
   "execution_count": 1,
   "id": "f89ec791-a6e6-4aba-824e-55a4e0809f47",
   "metadata": {},
   "outputs": [],
   "source": [
    "from ortools.linear_solver import pywraplp\n",
    "import pandas as pd\n",
    "import random\n",
    "import json"
   ]
  },
  {
   "cell_type": "code",
   "execution_count": 2,
   "id": "8ac67369-4f7a-4f31-ad5b-690caaff3a83",
   "metadata": {},
   "outputs": [],
   "source": [
    "# def solve_student_project_assignment(students, projects, project_preferences, decay_factor=0.5, seat_fill_weight=1):\n",
    "#     solver = pywraplp.Solver.CreateSolver('SCIP')\n",
    "#     if not solver:\n",
    "#         print(\"Solver not found\")\n",
    "#         return\n",
    "#     # Decision variables for project assignment\n",
    "#     x = {}\n",
    "#     for s in students:\n",
    "#         for p in projects:\n",
    "#             if students[s]['major'] in projects[p]['majors']:\n",
    "#                 x[s, p] = solver.BoolVar(f'x[{s},{p}]')\n",
    "\n",
    "#     # Hard constraints\n",
    "#     # Each student must be assigned 1 project\n",
    "#     for s in students:\n",
    "#         solver.Add(solver.Sum([x[s, p] for p in projects if (s, p) in x]) == 1)\n",
    "\n",
    "#     # Do not exceed maximum number of students in a major for each project\n",
    "#     for p in projects:\n",
    "#         for m in projects[p]['majors']:\n",
    "#             solver.Add(solver.Sum([x[s, p] for s in students if students[s]['major'] == m and (s, p) in x]) <= projects[p]['majors'][m])\n",
    "\n",
    "#     # Soft constraints\n",
    "#     # Exponential decay for project preferences\n",
    "#     project_preferences_score = solver.Sum(\n",
    "#         [(decay_factor ** project_preferences[s].index(p)) * x[s, p]\n",
    "#          for s in project_preferences\n",
    "#          for p in project_preferences[s]\n",
    "#          if (s, p) in x])\n",
    "\n",
    "#     # Score for filling seats in a project\n",
    "#     seat_filling_score = solver.Sum([x[s, p] for s in students for p in projects if (s, p) in x]) * seat_fill_weight\n",
    "\n",
    "#     # Objective function\n",
    "#     solver.Maximize(project_preferences_score + seat_filling_score)\n",
    "\n",
    "#     # Solve the problem\n",
    "#     status = solver.Solve()\n",
    "\n",
    "#     # Output the solution\n",
    "#     solution = []\n",
    "#     if status == pywraplp.Solver.OPTIMAL:\n",
    "#         for s in students:\n",
    "#             for p in projects:\n",
    "#                 if (s, p) in x and x[s, p].solution_value() > 0.5:\n",
    "#                     solution.append({'student': s, 'project': p})\n",
    "#         return solution\n",
    "#     else:\n",
    "#         print('The problem does not have an optimal solution.')\n",
    "#         return None\n",
    "\n",
    "def solve_student_project_assignment(students, projects, decay_factor=0.5, seat_fill_weight=1, student_preference_weight=1):\n",
    "    solver = pywraplp.Solver.CreateSolver('SCIP')\n",
    "    if not solver:\n",
    "        print(\"Solver not found\")\n",
    "        return\n",
    "\n",
    "    # Decision variables for project assignment\n",
    "    x = {}\n",
    "    for student in students:\n",
    "        for project in projects:\n",
    "            if student['major'] in project['majors']:\n",
    "                x[student['name'], project['name']] = solver.BoolVar(f'x[{student[\"name\"]},{project[\"name\"]}]')\n",
    "\n",
    "    # Hard constraints\n",
    "    # Each student must be assigned 1 project\n",
    "    for student in students:\n",
    "        solver.Add(solver.Sum([x[student['name'], project['name']] for project in projects if (student['name'], project['name']) in x]) == 1)\n",
    "\n",
    "    # Do not exceed maximum number of students in a major for each project\n",
    "    for project in projects:\n",
    "        for m in project['majors']:\n",
    "            solver.Add(solver.Sum([x[student['name'], project['name']] for student in students if student['major'] == m and (student['name'], project['name']) in x]) <= project['majors'][m])\n",
    "\n",
    "    # Soft constraints\n",
    "    # Exponential decay for project preferences\n",
    "    project_preferences_score = solver.Sum(\n",
    "        [(decay_factor ** student['project_preferences'].index(proj_name)) * x[student['name'], proj_name]\n",
    "         for student in students\n",
    "         for proj_name in student['project_preferences']\n",
    "         if (student['name'], proj_name) in x])\n",
    "\n",
    "    # Score for student preferences\n",
    "    student_preferences_score = solver.Sum(\n",
    "        [x[student['name'], project['name']] for student in students for project in projects for student_pref in student.get('student_preferences', []) if student_pref in [s['name'] for s in students] and project['name'] in [s['project_preferences'] for s in students if s['name'] == student_pref][0] and (student['name'], project['name']) in x and (student_pref, project['name']) in x]) * student_preference_weight\n",
    "\n",
    "    # Score for filling seats in a project\n",
    "    seat_filling_score = solver.Sum([x[student['name'], project['name']] for student in students for project in projects if (student['name'], project['name']) in x]) * seat_fill_weight\n",
    "\n",
    "    # Objective function\n",
    "    solver.Maximize(project_preferences_score + seat_filling_score + student_preferences_score)\n",
    "\n",
    "    # Solve the problem\n",
    "    status = solver.Solve()\n",
    "\n",
    "    # Output the solution\n",
    "    solution = []\n",
    "    if status == pywraplp.Solver.OPTIMAL:\n",
    "        for student in students:\n",
    "            for project in projects:\n",
    "                if (student['name'], project['name']) in x and x[student['name'], project['name']].solution_value() > 0.5:\n",
    "                    solution.append({'student': student['name'], 'project': project['name']})\n",
    "        return solution\n",
    "    else:\n",
    "        print('The problem does not have an optimal solution.')\n",
    "        return None"
   ]
  },
  {
   "cell_type": "code",
   "execution_count": 3,
   "id": "a102aee3-4798-432a-a223-aae84f5c8ea3",
   "metadata": {},
   "outputs": [
    {
     "data": {
      "text/plain": [
       "[{'student': 'Alice', 'project': 'Project1'},\n",
       " {'student': 'Bob', 'project': 'Project2'},\n",
       " {'student': 'Joe', 'project': 'Project1'},\n",
       " {'student': 'Ben', 'project': 'Project2'},\n",
       " {'student': 'Jared', 'project': 'Project1'},\n",
       " {'student': 'Bella', 'project': 'Project2'}]"
      ]
     },
     "execution_count": 3,
     "metadata": {},
     "output_type": "execute_result"
    }
   ],
   "source": [
    "students = [\n",
    "    {'name': 'Alice', 'major': 'Computer Science', 'project_preferences': ['Project1', 'Project2'], 'student_preferences': ['Joe']},\n",
    "    {'name': 'Bob', 'major': 'Engineering', 'project_preferences': ['Project2', 'Project1'], 'student_preferences': []},\n",
    "    {'name': 'Joe', 'major': 'Engineering', 'project_preferences': ['Project2', 'Project1'], 'student_preferences': ['Ben']},\n",
    "    {'name': 'Ben', 'major': 'Engineering', 'project_preferences': ['Project2', 'Project1'], 'student_preferences': []},\n",
    "    {'name': 'Jared', 'major': 'Computer Science', 'project_preferences': ['Project1', 'Project2'], 'student_preferences': []},\n",
    "    {'name': 'Bella', 'major': 'Computer Science', 'project_preferences': ['Project1', 'Project2'], 'student_preferences': []}\n",
    "]\n",
    "\n",
    "projects = [\n",
    "    {'name': 'Project1', 'majors': {'Computer Science': 2, 'Engineering': 2}},\n",
    "    {'name': 'Project2', 'majors': {'Computer Science': 2, 'Engineering': 2}}\n",
    "]\n",
    "\n",
    "solve_student_project_assignment(students, projects)"
   ]
  },
  {
   "cell_type": "markdown",
   "id": "26865d5e-0acc-4f88-b5a0-ffe8971b8d3b",
   "metadata": {},
   "source": [
    "## Import Data"
   ]
  },
  {
   "cell_type": "code",
   "execution_count": 4,
   "id": "f2543bb2-ba7b-4c2e-a97f-8685f0f9435d",
   "metadata": {},
   "outputs": [],
   "source": [
    "# students_df = pd.read_csv('../data/students.csv', index_col=0)\n",
    "# students_df = students_df.set_index('id')\n",
    "# students_df = students_df.rename(columns={'Name': 'name',\n",
    "#                                           'Degree': 'degree',\n",
    "#                                           'Other_desc': 'desc',\n",
    "#                                           'Major': 'major',\n",
    "#                                           'project_order': 'project_preferences'})\n",
    "# students_df['project_preferences'] = students_df['project_preferences'].apply(lambda x: x[1:-1].replace(\"'\", \"\").replace(\" \", \"\").split(','))\n",
    "# students_df.head(3)"
   ]
  },
  {
   "cell_type": "code",
   "execution_count": 5,
   "id": "e07a89bc-2718-4f63-af58-250341f721dc",
   "metadata": {
    "scrolled": true
   },
   "outputs": [],
   "source": [
    "# students = []\n",
    "# for index, row in students_df.iterrows():\n",
    "#     student_dict = {\n",
    "#         'name': row['name'],  # The student's name\n",
    "#         'major': row['major'],  # The student's major\n",
    "#         'project_preferences': row['project_preferences'],  # Assuming this is a list of project IDs\n",
    "#         'student_preferences': []  # Assuming you do not have student preferences data; leave as empty list if that's the case\n",
    "#     }\n",
    "#     students.append(student_dict)"
   ]
  },
  {
   "cell_type": "code",
   "execution_count": 6,
   "id": "ac5bfe6c-ceed-4a8e-8538-39167f1ec764",
   "metadata": {},
   "outputs": [],
   "source": [
    "# projects_df = pd.read_csv('../data/projects.csv', index_col=0)\n",
    "# projects_df = projects_df.rename(columns={'ID': 'id', 'Project name': 'project_name', 'Sponsor': 'sponsor', 'majors_requested': 'majors'})\n",
    "# projects_df['majors'] = projects_df['majors'].apply(lambda x: json.loads(x))\n",
    "# projects_df = projects_df.set_index('id')\n",
    "# projects_df.head(3)"
   ]
  },
  {
   "cell_type": "code",
   "execution_count": 7,
   "id": "a8f5fba5-726b-4ce7-94ec-c3e609d62ffe",
   "metadata": {
    "scrolled": true
   },
   "outputs": [],
   "source": [
    "# projects = []\n",
    "# for index, row in projects_df.iterrows():\n",
    "#     project_dict = {\n",
    "#         'name': row['project_name'],\n",
    "#         'majors': row['majors']  # Assuming the majors column already contains a dictionary\n",
    "#     }\n",
    "#     projects.append(project_dict)"
   ]
  },
  {
   "cell_type": "markdown",
   "id": "60936fe8-a689-423c-9695-455dd1949ba6",
   "metadata": {},
   "source": [
    "## Solve"
   ]
  },
  {
   "cell_type": "code",
   "execution_count": 8,
   "id": "99d4cb52-94a4-49aa-b662-1105433112fc",
   "metadata": {
    "scrolled": true
   },
   "outputs": [],
   "source": [
    "# solution = solve_student_project_assignment(students, projects)\n",
    "# solution = pd.DataFrame(solution)"
   ]
  },
  {
   "cell_type": "code",
   "execution_count": 9,
   "id": "cd73e7bc-489b-4535-bee0-00a0eb7210e0",
   "metadata": {},
   "outputs": [],
   "source": [
    "# solution"
   ]
  },
  {
   "cell_type": "code",
   "execution_count": 10,
   "id": "bf9b3573-ffe5-46b4-be5b-d2e337170cb6",
   "metadata": {},
   "outputs": [],
   "source": [
    "# student_merge = pd.merge(left=students_df, right=solution, left_index=True, right_on='student')\n",
    "# results = pd.merge(left=student_merge, right=projects_df, left_on='project', right_index=True).sort_values('student')"
   ]
  },
  {
   "cell_type": "code",
   "execution_count": 11,
   "id": "ee7ae0c7-a3b7-41b2-908d-b83d35a47373",
   "metadata": {},
   "outputs": [],
   "source": [
    "# results[['student', 'name', 'degree', 'major', 'desc', 'secondary_skills', 'project_preferences', 'project', 'project_name', 'sponsor', 'majors']].head(3)"
   ]
  },
  {
   "cell_type": "code",
   "execution_count": 12,
   "id": "09f705fc-9ecc-4ebe-b051-39f4246f5021",
   "metadata": {},
   "outputs": [],
   "source": [
    "# results.to_csv('../data/mips_solution.csv')"
   ]
  },
  {
   "cell_type": "code",
   "execution_count": null,
   "id": "d53dea98-6c38-4bea-a493-6641e0557c31",
   "metadata": {},
   "outputs": [],
   "source": []
  },
  {
   "cell_type": "code",
   "execution_count": null,
   "id": "b6a14d85-5586-4274-bd30-f852ff11ba98",
   "metadata": {},
   "outputs": [],
   "source": []
  },
  {
   "cell_type": "code",
   "execution_count": null,
   "id": "e6903448-05a4-470b-bab4-790780824e21",
   "metadata": {},
   "outputs": [],
   "source": []
  }
 ],
 "metadata": {
  "kernelspec": {
   "display_name": "Python 3 (ipykernel)",
   "language": "python",
   "name": "python3"
  },
  "language_info": {
   "codemirror_mode": {
    "name": "ipython",
    "version": 3
   },
   "file_extension": ".py",
   "mimetype": "text/x-python",
   "name": "python",
   "nbconvert_exporter": "python",
   "pygments_lexer": "ipython3",
   "version": "3.11.4"
  }
 },
 "nbformat": 4,
 "nbformat_minor": 5
}
